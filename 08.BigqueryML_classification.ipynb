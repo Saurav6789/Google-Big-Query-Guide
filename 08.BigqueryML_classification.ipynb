{
 "cells": [
  {
   "cell_type": "code",
   "execution_count": 23,
   "id": "0d72d5e6-c329-460d-b437-2663e924559a",
   "metadata": {
    "tags": []
   },
   "outputs": [],
   "source": [
    "import pandas as pd\n",
    "from google.cloud import bigquery\n",
    "from sklearn.model_selection import train_test_split\n",
    "from sklearn.metrics import accuracy_score\n"
   ]
  },
  {
   "cell_type": "code",
   "execution_count": 24,
   "id": "8892a767-6b18-419e-b2a8-d77fa5a7126d",
   "metadata": {
    "tags": []
   },
   "outputs": [],
   "source": [
    "# Define the Source data \n",
    "BQ_PROJECT = 'myproject'\n",
    "BQ_DATASET = 'personal_sauravanand'\n",
    "BQ_TABLE = 'iris'"
   ]
  },
  {
   "cell_type": "code",
   "execution_count": 25,
   "id": "e996a484-b002-46c0-9fe4-fe0273504041",
   "metadata": {
    "tags": []
   },
   "outputs": [],
   "source": [
    "bq = bigquery.Client()\n",
    "BQ_SOURCE = f'{BQ_PROJECT}.{BQ_DATASET}.{BQ_TABLE}'"
   ]
  },
  {
   "cell_type": "code",
   "execution_count": 26,
   "id": "bd7855c7-5bbf-43c3-aa66-c82462ce74a5",
   "metadata": {
    "tags": []
   },
   "outputs": [],
   "source": [
    "# Python Client \n",
    "\n",
    "query = f\"\"\"\n",
    "    SELECT * \n",
    "    FROM `{BQ_SOURCE}`\n",
    "\"\"\"\n",
    "data = bq.query(query = query).to_dataframe()"
   ]
  },
  {
   "cell_type": "code",
   "execution_count": 27,
   "id": "90343719-1c3a-4f93-b498-a57421cee988",
   "metadata": {
    "tags": []
   },
   "outputs": [
    {
     "data": {
      "text/html": [
       "<div>\n",
       "<style scoped>\n",
       "    .dataframe tbody tr th:only-of-type {\n",
       "        vertical-align: middle;\n",
       "    }\n",
       "\n",
       "    .dataframe tbody tr th {\n",
       "        vertical-align: top;\n",
       "    }\n",
       "\n",
       "    .dataframe thead th {\n",
       "        text-align: right;\n",
       "    }\n",
       "</style>\n",
       "<table border=\"1\" class=\"dataframe\">\n",
       "  <thead>\n",
       "    <tr style=\"text-align: right;\">\n",
       "      <th></th>\n",
       "      <th>Id</th>\n",
       "      <th>SepalLengthCm</th>\n",
       "      <th>SepalWidthCm</th>\n",
       "      <th>PetalLengthCm</th>\n",
       "      <th>PetalWidthCm</th>\n",
       "      <th>Species</th>\n",
       "    </tr>\n",
       "  </thead>\n",
       "  <tbody>\n",
       "    <tr>\n",
       "      <th>0</th>\n",
       "      <td>99</td>\n",
       "      <td>5.1</td>\n",
       "      <td>2.5</td>\n",
       "      <td>3.0</td>\n",
       "      <td>1.1</td>\n",
       "      <td>Iris-versicolor</td>\n",
       "    </tr>\n",
       "    <tr>\n",
       "      <th>1</th>\n",
       "      <td>61</td>\n",
       "      <td>5.0</td>\n",
       "      <td>2.0</td>\n",
       "      <td>3.5</td>\n",
       "      <td>1.0</td>\n",
       "      <td>Iris-versicolor</td>\n",
       "    </tr>\n",
       "    <tr>\n",
       "      <th>2</th>\n",
       "      <td>80</td>\n",
       "      <td>5.7</td>\n",
       "      <td>2.6</td>\n",
       "      <td>3.5</td>\n",
       "      <td>1.0</td>\n",
       "      <td>Iris-versicolor</td>\n",
       "    </tr>\n",
       "    <tr>\n",
       "      <th>3</th>\n",
       "      <td>63</td>\n",
       "      <td>6.0</td>\n",
       "      <td>2.2</td>\n",
       "      <td>4.0</td>\n",
       "      <td>1.0</td>\n",
       "      <td>Iris-versicolor</td>\n",
       "    </tr>\n",
       "    <tr>\n",
       "      <th>4</th>\n",
       "      <td>93</td>\n",
       "      <td>5.8</td>\n",
       "      <td>2.6</td>\n",
       "      <td>4.0</td>\n",
       "      <td>1.2</td>\n",
       "      <td>Iris-versicolor</td>\n",
       "    </tr>\n",
       "  </tbody>\n",
       "</table>\n",
       "</div>"
      ],
      "text/plain": [
       "   Id  SepalLengthCm  SepalWidthCm  PetalLengthCm  PetalWidthCm  \\\n",
       "0  99            5.1           2.5            3.0           1.1   \n",
       "1  61            5.0           2.0            3.5           1.0   \n",
       "2  80            5.7           2.6            3.5           1.0   \n",
       "3  63            6.0           2.2            4.0           1.0   \n",
       "4  93            5.8           2.6            4.0           1.2   \n",
       "\n",
       "           Species  \n",
       "0  Iris-versicolor  \n",
       "1  Iris-versicolor  \n",
       "2  Iris-versicolor  \n",
       "3  Iris-versicolor  \n",
       "4  Iris-versicolor  "
      ]
     },
     "execution_count": 27,
     "metadata": {},
     "output_type": "execute_result"
    }
   ],
   "source": [
    "data.head()"
   ]
  },
  {
   "cell_type": "code",
   "execution_count": 28,
   "id": "db09afc8-6645-4741-b0f7-ea92c4034a97",
   "metadata": {
    "tags": []
   },
   "outputs": [],
   "source": [
    "# Split the data into features and target \n",
    "\n",
    "X = data[['SepalLengthCm', 'SepalWidthCm', 'PetalLengthCm', 'PetalWidthCm']]\n",
    "y = data['Species']"
   ]
  },
  {
   "cell_type": "code",
   "execution_count": 29,
   "id": "679143ab-3dcd-4d6f-ac0a-242c884e333b",
   "metadata": {
    "tags": []
   },
   "outputs": [],
   "source": [
    "# Split the data into training and testing sets\n",
    "X_train, X_test, y_train, y_test = train_test_split(X, y, test_size=0.2, random_state=42)"
   ]
  },
  {
   "cell_type": "code",
   "execution_count": 39,
   "id": "c15f6d06-08a9-49c8-8465-b3b5f157070b",
   "metadata": {
    "tags": []
   },
   "outputs": [
    {
     "name": "stderr",
     "output_type": "stream",
     "text": [
      "100%|██████████| 1/1 [00:00<00:00, 1957.21it/s]\n"
     ]
    }
   ],
   "source": [
    "# Write the training data to BigQuery\n",
    "train_data_path = 'myproject.personal_sauravanand.train_data'\n",
    "X_train['Species'] = y_train\n",
    "X_train.to_gbq(train_data_path, project_id=BQ_PROJECT, if_exists='replace')"
   ]
  },
  {
   "cell_type": "markdown",
   "id": "ef169106-f79c-4779-ae05-4667400967bc",
   "metadata": {
    "tags": []
   },
   "source": [
    "# Logistic Regression"
   ]
  },
  {
   "cell_type": "code",
   "execution_count": 35,
   "id": "d2500aa0-2572-42f9-ba67-73ad4b038649",
   "metadata": {
    "tags": []
   },
   "outputs": [
    {
     "data": {
      "text/plain": [
       "<google.cloud.bigquery.table._EmptyRowIterator at 0x7f67657ef190>"
      ]
     },
     "execution_count": 35,
     "metadata": {},
     "output_type": "execute_result"
    }
   ],
   "source": [
    "# Train a classification model using BigQuery ML\n",
    "model_query = \"\"\"\n",
    "CREATE OR REPLACE MODEL personal_sauravanand.iris_classification_model\n",
    "OPTIONS(model_type='logistic_reg',input_label_cols=['Species']) AS\n",
    "SELECT *\n",
    "FROM `{0}`\n",
    "\"\"\".format(train_data_path)\n",
    "\n",
    "bq.query(model_query).result()"
   ]
  },
  {
   "cell_type": "code",
   "execution_count": 37,
   "id": "dd05383a-40e0-4bd9-a985-8af5fc8eee9a",
   "metadata": {
    "tags": []
   },
   "outputs": [
    {
     "name": "stdout",
     "output_type": "stream",
     "text": [
      "   precision    recall  accuracy  f1_score  log_loss  roc_auc\n",
      "0   0.992593  0.990741  0.991667   0.99156  0.059278      1.0\n"
     ]
    }
   ],
   "source": [
    "# Evaluate the model\n",
    "evaluation_query = \"\"\"\n",
    "SELECT\n",
    "  *\n",
    "FROM\n",
    "  ML.EVALUATE(MODEL personal_sauravanand.iris_classification_model,\n",
    "    (\n",
    "    SELECT *\n",
    "    FROM `{0}`\n",
    "    ))\n",
    "\"\"\".format(train_data_path)\n",
    "\n",
    "evaluation_result = bq.query(evaluation_query).to_dataframe()\n",
    "print(evaluation_result)"
   ]
  },
  {
   "cell_type": "markdown",
   "id": "58150412-baad-48da-a2f0-e4a5cf3af44d",
   "metadata": {},
   "source": [
    "# Random Forest"
   ]
  },
  {
   "cell_type": "code",
   "execution_count": 40,
   "id": "bf796ad8-e798-43c0-a3bc-6b5afeb4fc9e",
   "metadata": {
    "tags": []
   },
   "outputs": [
    {
     "data": {
      "text/plain": [
       "<google.cloud.bigquery.table._EmptyRowIterator at 0x7f676634dc60>"
      ]
     },
     "execution_count": 40,
     "metadata": {},
     "output_type": "execute_result"
    }
   ],
   "source": [
    "# Train a classification model using BigQuery ML\n",
    "model_query_rf = \"\"\"\n",
    "CREATE OR REPLACE MODEL personal_sauravanand.iris_classification_model_rf\n",
    "OPTIONS(model_type='random_forest_classifier',input_label_cols=['Species']) AS\n",
    "SELECT *\n",
    "FROM `{0}`\n",
    "\"\"\".format(train_data_path)\n",
    "\n",
    "bq.query(model_query_rf).result()"
   ]
  },
  {
   "cell_type": "code",
   "execution_count": 41,
   "id": "048f7f4a-9cc1-40fd-9228-2677e00dbda7",
   "metadata": {
    "tags": []
   },
   "outputs": [
    {
     "name": "stdout",
     "output_type": "stream",
     "text": [
      "   precision    recall  accuracy  f1_score  log_loss  roc_auc\n",
      "0    0.97423  0.975589     0.975  0.974807  0.267127      1.0\n"
     ]
    }
   ],
   "source": [
    "# Evaluate the model\n",
    "evaluation_query = \"\"\"\n",
    "SELECT\n",
    "  *\n",
    "FROM\n",
    "  ML.EVALUATE(MODEL personal_sauravanand.iris_classification_model_rf,\n",
    "    (\n",
    "    SELECT *\n",
    "    FROM `{0}`\n",
    "    ))\n",
    "\"\"\".format(train_data_path)\n",
    "\n",
    "evaluation_result = bq.query(evaluation_query).to_dataframe()\n",
    "print(evaluation_result)"
   ]
  },
  {
   "cell_type": "markdown",
   "id": "6f3a0a28-3302-4c0c-97af-398ede46f7de",
   "metadata": {},
   "source": [
    "# Other Classification Algorithms\n",
    "\n",
    "Similar way we can try with other classification  algorithms like :- \n",
    "\n",
    "- BOOSTED_TREE_CLASSIFIER\n",
    "- DNN_CLASSIFIER (Deep Neural Network Classifier)\n"
   ]
  }
 ],
 "metadata": {
  "environment": {
   "kernel": "python3",
   "name": "common-cpu.m120",
   "type": "gcloud",
   "uri": "us-docker.pkg.dev/deeplearning-platform-release/gcr.io/base-cpu:m120"
  },
  "kernelspec": {
   "display_name": "Python 3 (Local)",
   "language": "python",
   "name": "python3"
  },
  "language_info": {
   "codemirror_mode": {
    "name": "ipython",
    "version": 3
   },
   "file_extension": ".py",
   "mimetype": "text/x-python",
   "name": "python",
   "nbconvert_exporter": "python",
   "pygments_lexer": "ipython3",
   "version": "3.10.14"
  }
 },
 "nbformat": 4,
 "nbformat_minor": 5
}
